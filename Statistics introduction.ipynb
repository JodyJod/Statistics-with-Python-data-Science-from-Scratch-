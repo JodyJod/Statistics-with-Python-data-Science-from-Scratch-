{
 "cells": [
  {
   "cell_type": "code",
   "execution_count": 861,
   "metadata": {},
   "outputs": [
    {
     "data": {
      "image/png": "[encoded data removed]",
      "text/plain": [
       "<Figure size 432x288 with 1 Axes>"
      ]
     },
     "metadata": {
      "needs_background": "light"
     },
     "output_type": "display_data"
    }
   ],
   "source": [
    "from matplotlib import pyplot as plt\n",
    "from collections import Counter\n",
    "\n",
    "\n",
    "num_friends = [100.0,49,41,40,25,21,21,19,19,18,18,16,15,15,15,15,14,14,13,13,13,13,12,12,11,\n",
    "               10,10,10,10,10,10,10,10,10,10,10,10,10,10,10,9,9,9,9,9,9,9,9,9,9,9,9,9,9,9,9,9\n",
    "               ,9,8,8,8,8,8,8,8,8,8,8,8,8,8,7,7,7,7,7,7,7,7,7,7,7,7,7,7,7,6,6,6,6,6,6,6,6,6,6,\n",
    "               6,6,6,6,6,6,6,6,6,6,6,6,5,5,5,5,5,5,5,5,5,5,5,5,5,5,5,5,5,4,4,4,4,4,4,4,4,4,4,4,\n",
    "               4,4,4,4,4,4,4,4,4,3,3,3,3,3,3,3,3,3,3,3,3,3,3,3,3,3,3,3,3,2,2,2,2,2,2,2,2,2,2,2,\n",
    "               2,2,2,2,2,2,1,1,1,1,1,1,1,1,1,1,1,1,1,1,1,1,1,1,1,1,1,1]\n",
    "\n",
    "\n",
    "\n",
    "\n",
    "daily_minutes = [1,68.77,51.25,52.08,38.36,44.54,57.13,51.4,41.42,31.22,34.76,54.01,38.79,47.59,49.1,27.66,\n",
    "                 41.03,36.73,48.65,28.12,46.62,35.57,32.98,35,26.07,23.77,39.73,40.57,31.65,31.21,36.32,20.45,\n",
    "                 21.93,26.02,27.34,23.49,46.94,30.5,33.8,24.23,21.4,27.94,32.24,40.57,25.07,19.42,22.39,18.42,\n",
    "                 46.96,23.72,26.41,26.97,36.76,40.32,35.02,29.47,30.2,31,38.11,38.18,36.31,21.03,30.86,36.07,28.66,\n",
    "                 29.08,37.28,15.28,24.17,22.31,30.17,25.53,19.85,35.37,44.6,17.23,13.47,26.33,35.02,32.09,24.81,19.33,\n",
    "                 28.77,24.26,31.98,25.73,24.86,16.28,34.51,15.23,39.72,40.8,26.06,35.76,34.76,16.13,44.04,18.03,19.65,\n",
    "                 32.62,35.59,39.43,14.18,35.24,40.13,41.82,35.45,36.07,43.67,24.61,20.9,21.9,18.79,27.61,27.21,26.61,\n",
    "                 29.77,20.59,27.53,13.82,33.2,25,33.1,36.65,18.63,14.87,22.2,36.81,25.53,24.62,26.25,18.21,28.08,19.42,\n",
    "                 29.79,32.8,35.99,28.32,27.79,35.88,29.06,36.28,14.1,36.63,37.49,26.9,18.58,38.48,24.48,18.95,33.55,\n",
    "                 14.24,29.04,32.51,25.63,22.22,19,32.73,15.16,13.9,27.2,32.01,29.27,33,13.74,20.42,27.32,18.23,35.35,\n",
    "                 28.48,9.08,24.62,20.12,35.26,19.92,31.02,16.49,12.16,30.7,31.22,34.65,13.13,27.51,33.2,31.57,14.1,\n",
    "                 33.42,17.44,10.12,24.42,9.82,23.39,30.93,15.03,21.67,31.09,33.29,22.61,26.89,23.48,8.38,27.81,32.35,23.84]\n",
    "\n",
    "\n",
    "\n",
    "\n",
    "friend_counts = Counter(num_friends)\n",
    "xs = range(101) # largest value is 100\n",
    "ys = [friend_counts[x] for x in xs] # height is just # of friends\n",
    "plt.bar(xs, ys)\n",
    "plt.axis([0, 101, 0, 25])\n",
    "plt.title(\"Histogram of Friend Counts\")\n",
    "plt.xlabel(\"# of friends\")\n",
    "plt.ylabel(\"# of people\")\n",
    "plt.show()\n",
    "\n",
    "\n",
    "## Counter shows the number to times something occurs in a list.\n",
    "##Counter(num_friends) would show for each element in the list, how many times it occurs.\n",
    "##By assigning it to the the variable friend_counts , you can use friend_counts[21] and it will tell you how many \n",
    "##times 31 occured in the num_friends list. in this case 2 times. \n",
    "##by putting it in a loop going  through xs which is a range from 0 to 100, and using x as the variable in the loop,\n",
    "##it would check each item in the range 0 to 100 and  advise the number of times it occurs"
   ]
  },
  {
   "cell_type": "code",
   "execution_count": 862,
   "metadata": {},
   "outputs": [],
   "source": [
    "def median(v):\n",
    "    n = len(v) ## gets length of the input\n",
    "    sorted_v = sorted(v) #sort the input from lowest to highest\n",
    "    midpoint = n // 2 #uses floor division to find the middle number in this case it is 102\n",
    "    if n % 2 == 1: ## if we divide the number by 2 and their is a remainder then the number is odd\n",
    "        return sorted_v[midpoint] # if the list is odd the then sorted[102] would bw correct in showing you the  position of \n",
    "    ## the middle number but its is odd so this cannot work\n",
    "    else:\n",
    "        lo = midpoint - 1\n",
    "        hi = midpoint\n",
    "        return (sorted_v[lo] + sorted_v[hi]) / 2\n",
    "        ## if the number is even then this will get the 2 middle numbers and divde them by 2 resulting in the median\n",
    "\n",
    "\n"
   ]
  },
  {
   "cell_type": "code",
   "execution_count": 863,
   "metadata": {},
   "outputs": [],
   "source": [
    "def mode(x):\n",
    "    counts = Counter(x)\n",
    "    max_count = max(counts.values())\n",
    "    return [x_i for x_i, count in counts.items()\n",
    "    if count == max_count]\n",
    "\n",
    "\n"
   ]
  },
  {
   "cell_type": "code",
   "execution_count": 864,
   "metadata": {},
   "outputs": [
    {
     "data": {
      "text/plain": [
       "[(49, 1)]"
      ]
     },
     "execution_count": 864,
     "metadata": {},
     "output_type": "execute_result"
    }
   ],
   "source": [
    "\n",
    "\n",
    "counts = Counter(num_friends)\n",
    "max_count = max(counts.values())\n",
    "values = [x for x in counts.items() if x[0] == 49]\n",
    "values\n",
    "\n",
    "\n"
   ]
  },
  {
   "cell_type": "code",
   "execution_count": 865,
   "metadata": {},
   "outputs": [
    {
     "data": {
      "text/plain": [
       "81.54351395730706"
      ]
     },
     "execution_count": 865,
     "metadata": {},
     "output_type": "execute_result"
    }
   ],
   "source": [
    "import statistics\n",
    "import math\n",
    "import numpy as np\n",
    "\n",
    "x = num_friends \n",
    "n = len(num_friends)-1 ## the sample data is f you take a small sample where extrremes are improbable then \n",
    "                       ## you will tend to underestimate the variability of the population since your are \n",
    "                       ## unlikely to pick up the extremes in your sample.\n",
    "        \n",
    "x_bar = statistics.mean(x) ## finds the mean of your population\n",
    "\n",
    "squares= [(y - x_bar)**2 for y in x] ## subtracts the the mean for the population from each value in the population, \n",
    "                                     ## while squaring it. We square it to turn all negative numbers in the set to positive\n",
    "                                     ## as  to get the sum of squares we have to add them up. Having negative numbers would \n",
    "                                    ## lower the value\n",
    "\n",
    "sumofsquares = math.fsum(squares) ## sums the squared. The math.fsum function is used to add float values.\n",
    "\n",
    "variance =  sumofsquares / (n)  ## variance is the sum of squares divided by the population\n",
    "standard_deviation = math.sqrt(variance)  ## standard deviation is the square root of the the variance\n",
    "standard_deviation\n",
    "sumofsquares/n\n"
   ]
  },
  {
   "cell_type": "code",
   "execution_count": 844,
   "metadata": {},
   "outputs": [],
   "source": [
    "\n",
    "\n",
    "def de_mean(x):\n",
    "    x_bar = statistics.mean(x)  ##assigns the name x_bar to the numpy function statistics.mean to find the mean of the x input\n",
    "    return[x_i-x_bar for x_i in x] ##takes the mean calculated above then subtracts it from each item from the input\n",
    "## this function finds the deviation of each item from the mean of the population\n",
    "\n",
    "\n",
    "def variance(x):\n",
    "    n = len(x) ## length of the input\n",
    "    deviations =  de_mean(x) ##uses the function above and applies it to the input of this function \n",
    "    squares = [(x ** 2) for x in deviations] ##squares each item \n",
    "    return math.fsum(squares)/(n-1) ## finds the variance  whicch is the sum of the variances from the mean divided by \n",
    "                                    ## the population\n",
    "    \n",
    "    \n",
    "\n",
    "def standard_deviation(x):\n",
    "    return math.sqrt(variance(x)) ##finds the variance of the input of the function , then finds the square root of that\n",
    "                \n",
    "    \n",
    "def covariance(x,y):\n",
    "    n = len(x)\n",
    "    return np.dot(de_mean(x),de_mean(y))/(n-1) ##dot function finds the product of to arrays if values are int by multiplying\n",
    "                                              ## each value in one array with its corrsesponding value in the next\n",
    "    \n",
    "## this function takes in two inputs and applies the de_mean function defined earlier to each input , finds the product of \n",
    "## of them and divided them by the population\n",
    "\n",
    "\n",
    "\n",
    "        \n",
    "\n",
    "def correlation(x,y):\n",
    "    stdev_x = standard_deviation(x)\n",
    "    stdev_y = standard_deviation(y)\n",
    "    if stdev_x > 0 and stdev_y > 0:\n",
    "        return covariance(x,y)/stdev_x /stdev_y\n",
    "    else:\n",
    "        return 0\n",
    "    \n",
    "## this function accepts values and applies the standard deviation function to each value. It then uses the covariance function\n",
    "## defined earlier and applies it to the x and y inputs. it then divides this by the product of the standard deviation \n",
    "## for x and y which was calculated on the previous lines. Note well covariance(x,y)/stdev_x /stdev_y is the sames \n",
    "##as the covaraince dvided by the standard deviation of x * standard deviation of Y\n"
   ]
  },
  {
   "cell_type": "code",
   "execution_count": 848,
   "metadata": {},
   "outputs": [
    {
     "data": {
      "text/plain": [
       "0.2473695736647823"
      ]
     },
     "execution_count": 848,
     "metadata": {},
     "output_type": "execute_result"
    }
   ],
   "source": []
  },
  {
   "cell_type": "code",
   "execution_count": 849,
   "metadata": {},
   "outputs": [
    {
     "data": {
      "image/png": "[encoded data removed]",
      "text/plain": [
       "<Figure size 432x288 with 1 Axes>"
      ]
     },
     "metadata": {
      "needs_background": "light"
     },
     "output_type": "display_data"
    }
   ],
   "source": [
    "\n",
    "plt.scatter(num_friends, daily_minutes)\n",
    "plt.xlabel(\"test 1 grade\")\n",
    "plt.ylabel(\"test 2 grade\")\n",
    "plt.axis([0, 110, 0, 110])\n",
    "plt.xticks([x * 10 for x in range(11)])\n",
    "plt.show()\n"
   ]
  },
  {
   "cell_type": "code",
   "execution_count": 860,
   "metadata": {},
   "outputs": [
    {
     "data": {
      "text/plain": [
       "0.5736792115665601"
      ]
     },
     "execution_count": 860,
     "metadata": {},
     "output_type": "execute_result"
    }
   ],
   "source": [
    "outlier = num_friends.index(100) # index of outlier\n",
    "## index finds the position of the value. In this case we know the outlier is number 100 in the x values in num_friends\n",
    "## to find out the position of 100 in num_ friends we use the index() which we find 100 is at position 0\n",
    "\n",
    "\n",
    "num_friends_good = [x for i, x in enumerate(num_friends)\n",
    "                    if i != outlier]\n",
    "\n",
    "## we use the enumeration function to display the index of each item in num_friends and as long as it does not match the\n",
    "## index of the outlier\n",
    "\n",
    "daily_minutes_good = [x for i, x in enumerate(daily_minutes)\n",
    "                     if i != outlier]\n",
    "\n",
    "## we do the same this with the y data to remove the corrisponding y value of the outlier\n",
    "\n",
    "correlation(num_friends_good,daily_minutes_good)"
   ]
  },
  {
   "cell_type": "code",
   "execution_count": null,
   "metadata": {},
   "outputs": [],
   "source": []
  },
  {
   "cell_type": "code",
   "execution_count": null,
   "metadata": {},
   "outputs": [],
   "source": []
  }
 ],
 "metadata": {
  "kernelspec": {
   "display_name": "Python 3",
   "language": "python",
   "name": "python3"
  },
  "language_info": {
   "codemirror_mode": {
    "name": "ipython",
    "version": 3
   },
   "file_extension": ".py",
   "mimetype": "text/x-python",
   "name": "python",
   "nbconvert_exporter": "python",
   "pygments_lexer": "ipython3",
   "version": "3.7.3"
  }
 },
 "nbformat": 4,
 "nbformat_minor": 2
}
